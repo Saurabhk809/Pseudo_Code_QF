{
 "cells": [
  {
   "cell_type": "code",
   "execution_count": 71,
   "id": "2dc4f594-5cde-48b4-8d8a-499763ea020a",
   "metadata": {},
   "outputs": [],
   "source": [
    "# First procedural code for Understanding pricing using binomial model\n",
    "\n",
    "#The binomial stock price model is a discrete-time model used to represent the evolution of a stock price over time. \n",
    "\n",
    "#The model assumes that the stock price can move either up or down by a fixed amount at each time step.\n"
   ]
  },
  {
   "cell_type": "code",
   "execution_count": 72,
   "id": "9cb82a7a-4f75-4329-9ecd-8592d1f2500d",
   "metadata": {},
   "outputs": [],
   "source": [
    "# Import section for all Imported Modules\n",
    "\n",
    "import numpy as np\n",
    "import matplotlib.pyplot as plt\n",
    "import math\n",
    "import warnings\n",
    "warnings.filterwarnings('ignore')"
   ]
  },
  {
   "cell_type": "code",
   "execution_count": 74,
   "id": "5281f78a-3dc8-4c55-b225-9f67718f6ee6",
   "metadata": {},
   "outputs": [],
   "source": [
    "# Initialise the parameters required for binomial pricing \n",
    "\n",
    "S0=100      # Stock Price at node  0\n",
    "K=100       # Strike price of option\n",
    "T=1         # Time to expiry in Years\n",
    "dt=1/12     # delta time steps\n",
    "r=0.1       # Risk Free rate of return\n",
    "sigma=0.2   # Volatility\n",
    "p=round((1/2)+((0.1)*math.sqrt(dt))/(2*sigma),2) # Probability\n",
    "u=round(1+sigma*math.sqrt(dt),2)                 # Up side\n",
    "d=round(1-sigma*math.sqrt(dt),2)                 # Down side\n",
    "N=5                                              # No of Steps\n"
   ]
  },
  {
   "cell_type": "code",
   "execution_count": 75,
   "id": "65d59690-9eea-41bc-a457-9f2ee343f883",
   "metadata": {},
   "outputs": [
    {
     "data": {
      "text/latex": [
       "#$$ U= 1  + \\sigma*\\sqrt(dt) $$\n"
      ],
      "text/plain": [
       "<IPython.core.display.Latex object>"
      ]
     },
     "metadata": {},
     "output_type": "display_data"
    }
   ],
   "source": [
    "%%latex\n",
    "#$$ U= 1  + \\sigma*\\sqrt(dt) $$"
   ]
  },
  {
   "cell_type": "code",
   "execution_count": 76,
   "id": "68aa1bf8-cc9f-49f4-a360-4734da3ddfb2",
   "metadata": {},
   "outputs": [
    {
     "data": {
      "text/latex": [
       "#$$ D = 1  - \\sigma*\\sqrt(dt) $$\n"
      ],
      "text/plain": [
       "<IPython.core.display.Latex object>"
      ]
     },
     "metadata": {},
     "output_type": "display_data"
    }
   ],
   "source": [
    "%%latex\n",
    "#$$ D = 1  - \\sigma*\\sqrt(dt) $$"
   ]
  },
  {
   "cell_type": "code",
   "execution_count": 77,
   "id": "40fbcb3d-8ffc-44fb-9acc-eac85b68916a",
   "metadata": {},
   "outputs": [
    {
     "data": {
      "text/latex": [
       "\n",
       "$$p = 1/2 + (r*\\sqrt(dt)/(2*\\sigma)$$\n"
      ],
      "text/plain": [
       "<IPython.core.display.Latex object>"
      ]
     },
     "metadata": {},
     "output_type": "display_data"
    }
   ],
   "source": [
    "%%latex\n",
    "\n",
    "$$p = 1/2 + (r*\\sqrt(dt)/(2*\\sigma)$$"
   ]
  },
  {
   "cell_type": "code",
   "execution_count": 78,
   "id": "71771068-47be-41d9-8c27-20e16e0744e8",
   "metadata": {},
   "outputs": [
    {
     "name": "stdout",
     "output_type": "stream",
     "text": [
      "Upside Coeff is : 1.06 Down Side Coeff is : 0.94 probability of rise is : 0.57 probability of fall is : 0.43\n"
     ]
    }
   ],
   "source": [
    "# Sample print of the derived values\n",
    "\n",
    "print('Upside Coeff is :',u , 'Down Side Coeff is :',d,'probability of rise is :',p,'probability of fall is :',round(1-p,2))\n"
   ]
  },
  {
   "cell_type": "code",
   "execution_count": 79,
   "id": "d27fb7b6-c8a7-4c74-ac53-7c40e420c3f7",
   "metadata": {},
   "outputs": [],
   "source": [
    "# Declare the Variable to calculate values at respective nodes\n",
    "\n",
    "# Initialise a numpy array for Storing the stock prices at each level\n",
    "\n",
    "stock_price=np.array((N,N))\n",
    "stock_price=np.zeros((N,N))\n",
    "\n",
    "# Initialise a stock price at first level which is same as initialised price\n",
    "\n",
    "stock_price[0,0]=S0"
   ]
  },
  {
   "cell_type": "code",
   "execution_count": null,
   "id": "b5c0982d-6758-42da-86fb-ad18cc208afb",
   "metadata": {},
   "outputs": [],
   "source": [
    "\"\"\"\n",
    "The stock price at any node in the binomial tree can be calculated recursively using these formulas.\n",
    "or example, the stock price at node $(i, j)$ in the binomial tree is given by following equation:\n",
    "where $i$ is the time step and $j$ is the number of upward movements.\n",
    "\"\"\""
   ]
  },
  {
   "cell_type": "code",
   "execution_count": 92,
   "id": "1f938d00-d42a-40df-8185-9e3a0787c8d0",
   "metadata": {},
   "outputs": [
    {
     "data": {
      "text/latex": [
       "$$S_{i,j} = S_0 \\cdot u^j \\cdot d^{i-j}$$\n"
      ],
      "text/plain": [
       "<IPython.core.display.Latex object>"
      ]
     },
     "metadata": {},
     "output_type": "display_data"
    }
   ],
   "source": [
    "%%latex\n",
    "$$S_{i,j} = S_0 \\cdot u^j \\cdot d^{i-j}$$"
   ]
  },
  {
   "cell_type": "code",
   "execution_count": 80,
   "id": "0c5bd649-07f6-4b95-b4a5-7ea54a53aceb",
   "metadata": {},
   "outputs": [
    {
     "name": "stdout",
     "output_type": "stream",
     "text": [
      "stock Prices are \n",
      " [[100.   0.   0.   0.   0.]\n",
      " [ 94. 106.   0.   0.   0.]\n",
      " [ 88. 100. 112.   0.   0.]\n",
      " [ 83.  93. 106. 119.   0.]\n",
      " [ 78.  88.  99. 112. 126.]]\n"
     ]
    }
   ],
   "source": [
    "# Iterate for loop which will move up and down the node to calculate price at each level\n",
    "\n",
    "for i in range(1,N):\n",
    "    # Moving down on First level\n",
    "    stock_price[i,0]=round(d*stock_price[i-1,0])\n",
    "    # optional print('down price at node',i,Asset_price[i,0])\n",
    "    j=i+1\n",
    "    # Moving up on First Level\n",
    "    for j in range(1,j):\n",
    "        stock_price[i, j] = round(u * stock_price[i - 1,j-1])\n",
    "        #print('up price at node', j, Asset_price[i, j])\n",
    "\n",
    "print('stock Prices are \\n',stock_price)"
   ]
  },
  {
   "cell_type": "code",
   "execution_count": 81,
   "id": "bac88957-4d66-4b54-a442-3bc6cfe294ad",
   "metadata": {},
   "outputs": [],
   "source": [
    "# Initialise a numpy array for Storing corresponding the option prices at each level\n",
    "\n",
    "call_prices=np.array((N,N))\n",
    "call_prices=np.zeros((N,N))"
   ]
  },
  {
   "cell_type": "code",
   "execution_count": 82,
   "id": "6919f253-0597-415d-aab2-ce2433626442",
   "metadata": {},
   "outputs": [
    {
     "name": "stdout",
     "output_type": "stream",
     "text": [
      "Option Values at last Node [ 0.  0.  0. 12. 26.]\n"
     ]
    }
   ],
   "source": [
    "\"\"\"\n",
    "#option prices\n",
    "\n",
    "# Step 1 Retrieve the terminal node expiration prices\n",
    "# Step 2 Exclude the prices < 0 by replacing them to zero \n",
    "\n",
    "\"\"\"\n",
    "expiration=stock_price[-1,:]-K\n",
    "\n",
    "# if option type is put expiration node = K - stock_price[-1,:]\n",
    "\n",
    "expiration=np.where(expiration>=0,expiration,0)\n",
    "\n",
    "print('Option Values at last Node',expiration)\n",
    "call_prices[-1,:]=expiration\n",
    "\n"
   ]
  },
  {
   "cell_type": "code",
   "execution_count": 85,
   "id": "3d156b39-85b6-48e0-b74e-bc012e49b5af",
   "metadata": {},
   "outputs": [
    {
     "name": "stdout",
     "output_type": "stream",
     "text": [
      "All option Prices are:\n",
      " [[ 6.35165375  0.          0.          0.          0.        ]\n",
      " [ 2.16744682  9.60140917  0.          0.          0.        ]\n",
      " [ 0.          3.8343585  14.09294924  0.          0.        ]\n",
      " [ 0.          0.          6.78323684 19.81419183  0.        ]\n",
      " [ 0.          0.          0.         12.         26.        ]]\n",
      "\n",
      "Option Price at the first Node is:\n",
      " 6.351653754976161\n"
     ]
    }
   ],
   "source": [
    "#Back Propagate option prices to fill out our treee\n",
    "\n",
    "for i in range(N-2,-1,-1):\n",
    "    for j in range(i+1):\n",
    "        call_prices[i,j]=np.exp(-r*dt)*((1-p)*call_prices[i+1,j]+p*call_prices[i+1,j+1])\n",
    "\n",
    "# Prices for all the options\n",
    "print('All option Prices are:\\n',call_prices)\n",
    "\n",
    "# Price of the option on the starting node\n",
    "\n",
    "print('\\nOption Price at the first Node is:\\n',call_prices[0,0])\n"
   ]
  },
  {
   "cell_type": "code",
   "execution_count": 89,
   "id": "6f9d1831-6f7e-4c89-b119-ff5234289879",
   "metadata": {},
   "outputs": [
    {
     "data": {
      "text/plain": [
       "<matplotlib.legend.Legend at 0x27edff421d0>"
      ]
     },
     "execution_count": 89,
     "metadata": {},
     "output_type": "execute_result"
    },
    {
     "data": {
      "image/png": "[encoded data removed]",
      "text/plain": [
       "<Figure size 640x480 with 1 Axes>"
      ]
     },
     "metadata": {},
     "output_type": "display_data"
    }
   ],
   "source": [
    "#  Plot the stock price and option prices\n",
    "\n",
    "for i in range(N):\n",
    "    plt.plot(stock_price[i, :i + 1], 'o-', label=f\"Step {i}\")\n",
    "    plt.plot(call_prices[i, :i + 1], 'v-', label=f\"Step {i}\")\n",
    "plt.xlabel(\"Node step\")\n",
    "plt.ylabel(\"Stock price & Option price\")\n",
    "plt.title(\"Binomial Asset Price plot\")\n",
    "plt.legend()"
   ]
  },
  {
   "cell_type": "code",
   "execution_count": null,
   "id": "fc1bbb9a-ac48-4c57-86b6-adac7fb19ee2",
   "metadata": {},
   "outputs": [],
   "source": []
  }
 ],
 "metadata": {
  "kernelspec": {
   "display_name": "Python 3 (ipykernel)",
   "language": "python",
   "name": "python3"
  },
  "language_info": {
   "codemirror_mode": {
    "name": "ipython",
    "version": 3
   },
   "file_extension": ".py",
   "mimetype": "text/x-python",
   "name": "python",
   "nbconvert_exporter": "python",
   "pygments_lexer": "ipython3",
   "version": "3.11.7"
  }
 },
 "nbformat": 4,
 "nbformat_minor": 5
}
